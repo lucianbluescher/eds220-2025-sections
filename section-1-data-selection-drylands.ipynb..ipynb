{
 "cells": [
  {
   "cell_type": "markdown",
   "id": "535b6b63-3038-43fc-8e75-7484d3febf7b",
   "metadata": {},
   "source": [
    " ### 1. Archive Exploration\n",
    " \n",
    " \n",
    "-  What is this data about?\n",
    "\n",
    "A compilation of occurance records of arthopod prey of species in California drylands.\n",
    " \n",
    "- Is this data collected in-situ by the authors or is it a synthesis of multiple datasets?\n",
    "\n",
    " Synthesis of multiple data sets\n",
    "\n",
    "- During what time frame were the observations in the dataset collected?\n",
    "\n",
    "1945 - 2022\n",
    "\n",
    "- Does this dataset come with an associated metadata file?\n",
    "\n",
    "Yes\n",
    "\n",
    "- Does the dataset contain sensitive data?\n",
    "\n",
    "No\n",
    " \n",
    "citation:\n",
    "\n",
    " Rachel King, Jenna Braun, Michael Westphal, & CJ Lortie. (2023). Compiled occurrence records for prey items of listed species found in California drylands with associated environmental data. Knowledge Network for Biocomplexity. doi:10.5063/F1VM49RH.\n",
    " \n",
    "date of access:\n",
    "\n",
    "10/3/2025\n",
    " \n",
    "Link to the archive:\n",
    "\n",
    " doi:10.5063/F1VM49RH"
   ]
  },
  {
   "cell_type": "markdown",
   "id": "7de3cb3a-b745-47e2-81fd-bb05cb6be2d8",
   "metadata": {},
   "source": [
    "### 2. Metadata exploration"
   ]
  },
  {
   "cell_type": "code",
   "execution_count": 9,
   "id": "48df7f65-ffb6-4d75-80cd-5e8e84487f30",
   "metadata": {
    "tags": []
   },
   "outputs": [
    {
     "data": {
      "text/html": [
       "<div>\n",
       "<style scoped>\n",
       "    .dataframe tbody tr th:only-of-type {\n",
       "        vertical-align: middle;\n",
       "    }\n",
       "\n",
       "    .dataframe tbody tr th {\n",
       "        vertical-align: top;\n",
       "    }\n",
       "\n",
       "    .dataframe thead th {\n",
       "        text-align: right;\n",
       "    }\n",
       "</style>\n",
       "<table border=\"1\" class=\"dataframe\">\n",
       "  <thead>\n",
       "    <tr style=\"text-align: right;\">\n",
       "      <th></th>\n",
       "      <th>attribute</th>\n",
       "      <th>description</th>\n",
       "    </tr>\n",
       "  </thead>\n",
       "  <tbody>\n",
       "    <tr>\n",
       "      <th>0</th>\n",
       "      <td>class</td>\n",
       "      <td>taxonomic class of observed organism</td>\n",
       "    </tr>\n",
       "    <tr>\n",
       "      <th>1</th>\n",
       "      <td>order</td>\n",
       "      <td>taxonomic order of observed organism</td>\n",
       "    </tr>\n",
       "    <tr>\n",
       "      <th>2</th>\n",
       "      <td>family</td>\n",
       "      <td>taxonomic family of observed organism</td>\n",
       "    </tr>\n",
       "    <tr>\n",
       "      <th>3</th>\n",
       "      <td>genus</td>\n",
       "      <td>genus name</td>\n",
       "    </tr>\n",
       "    <tr>\n",
       "      <th>4</th>\n",
       "      <td>species</td>\n",
       "      <td>full latin binomial name</td>\n",
       "    </tr>\n",
       "  </tbody>\n",
       "</table>\n",
       "</div>"
      ],
      "text/plain": [
       "  attribute                            description\n",
       "0     class   taxonomic class of observed organism\n",
       "1     order   taxonomic order of observed organism\n",
       "2    family  taxonomic family of observed organism\n",
       "3     genus                             genus name\n",
       "4   species               full latin binomial name"
      ]
     },
     "execution_count": 9,
     "metadata": {},
     "output_type": "execute_result"
    }
   ],
   "source": [
    "import pandas as pd\n",
    "\n",
    "# Import data\n",
    "metadata = pd.read_csv('https://knb.ecoinformatics.org/knb/d1/mn/v2/object/urn%3Auuid%3A3baf7289-bf90-4db3-ad11-58785c09b26e')\n",
    "metadata.head()"
   ]
  },
  {
   "cell_type": "code",
   "execution_count": null,
   "id": "b3dbbeaf-6592-4cc4-90f1-4f9949299a9f",
   "metadata": {
    "tags": []
   },
   "outputs": [],
   "source": [
    "# Load data\n",
    "# Load prey data from csv link\n",
    "prey = pd.read_csv('https://knb.ecoinformatics.org/knb/d1/mn/v2/object/urn%3Auuid%3A23d42528-1048-45d4-85d1-7e13b666e744')\n",
    "\n",
    "# Check type of prey object\n",
    "print(type(prey))\n",
    "print(prey.head())"
   ]
  },
  {
   "cell_type": "markdown",
   "id": "69bf57a4-1964-45eb-ac77-03db64ef72f3",
   "metadata": {},
   "source": [
    "### 3. Data Loading\n",
    "\n"
   ]
  }
 ],
 "metadata": {
  "kernelspec": {
   "display_name": "EDS220",
   "language": "python",
   "name": "eds220-env"
  },
  "language_info": {
   "codemirror_mode": {
    "name": "ipython",
    "version": 3
   },
   "file_extension": ".py",
   "mimetype": "text/x-python",
   "name": "python",
   "nbconvert_exporter": "python",
   "pygments_lexer": "ipython3",
   "version": "3.11.4"
  }
 },
 "nbformat": 4,
 "nbformat_minor": 5
}
