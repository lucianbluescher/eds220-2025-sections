{
 "cells": [
  {
   "cell_type": "markdown",
   "id": "53984e81-baa4-4524-b165-4c9e58ad26c2",
   "metadata": {},
   "source": [
    "# 1. Archive Exploration"
   ]
  },
  {
   "cell_type": "markdown",
   "id": "656ea2b1-714d-4557-9fe9-72d74175f268",
   "metadata": {},
   "source": [
    "The data was collected from nine public, recorded meetings of water control boards and official organizations in the Colorado River Basin as well as articles from newspapers describing water-related events in geographic areas in the Basin based on methods established by Dr. Nathan Eidem. The observations collected are from the 2005 - 2021 time frame. The value of this data is in understanding social vulnerability to water insecurity, resiliency demonstrated by institutions, and conflict or crisis around water resource management.\n",
    "\n",
    "Data:\n",
    "https://www.sciencebase.gov/catalog/item/63acac09d34e92aad3ca1480"
   ]
  },
  {
   "cell_type": "markdown",
   "id": "79ba5662-58dd-47b9-87bf-5ff5ef58adf5",
   "metadata": {
    "tags": []
   },
   "source": [
    "# 2. Data Loading"
   ]
  },
  {
   "cell_type": "code",
   "execution_count": 7,
   "id": "74a19620-edf4-40b7-a4cb-f304d8a5f546",
   "metadata": {
    "tags": []
   },
   "outputs": [
    {
     "data": {
      "text/html": [
       "<div>\n",
       "<style scoped>\n",
       "    .dataframe tbody tr th:only-of-type {\n",
       "        vertical-align: middle;\n",
       "    }\n",
       "\n",
       "    .dataframe tbody tr th {\n",
       "        vertical-align: top;\n",
       "    }\n",
       "\n",
       "    .dataframe thead th {\n",
       "        text-align: right;\n",
       "    }\n",
       "</style>\n",
       "<table border=\"1\" class=\"dataframe\">\n",
       "  <thead>\n",
       "    <tr style=\"text-align: right;\">\n",
       "      <th></th>\n",
       "      <th>Event</th>\n",
       "      <th>Search Source</th>\n",
       "      <th>Newspaper</th>\n",
       "      <th>Article Title</th>\n",
       "      <th>Duplicate</th>\n",
       "      <th>Report Date</th>\n",
       "      <th>Report Year</th>\n",
       "      <th>Event Date</th>\n",
       "      <th>Event Day</th>\n",
       "      <th>Event Month</th>\n",
       "      <th>Event Year</th>\n",
       "      <th>Conflict Present</th>\n",
       "      <th>Crisis Present</th>\n",
       "      <th>Basin</th>\n",
       "      <th>HUC6</th>\n",
       "      <th>HUC2</th>\n",
       "      <th>Place</th>\n",
       "      <th>County</th>\n",
       "      <th>County FIPS</th>\n",
       "      <th>State</th>\n",
       "      <th>State FIPS</th>\n",
       "      <th>Urban or Rural</th>\n",
       "      <th>Issue Type</th>\n",
       "      <th>Event Summary</th>\n",
       "      <th>Stakeholders</th>\n",
       "      <th>Intensity Value</th>\n",
       "      <th>Comments</th>\n",
       "      <th>Related Observation Themes</th>\n",
       "      <th>Article Text Search - water quality</th>\n",
       "      <th>Article Text Search - invasive species</th>\n",
       "      <th>Article Text Search - conservation</th>\n",
       "      <th>Article Text Search - drought</th>\n",
       "      <th>Article Text Search - flood</th>\n",
       "      <th>Article Text Search - ground water depletion</th>\n",
       "      <th>Article Text Search - depletion</th>\n",
       "      <th>Article Text Search - infrastructure</th>\n",
       "      <th>Article Text Search - fish passage</th>\n",
       "      <th>Article Text Search - instream water rights</th>\n",
       "      <th>Article Text Search - water rights</th>\n",
       "      <th>Article Text Search - intergovernmental</th>\n",
       "      <th>Article Text Search - water transfers</th>\n",
       "      <th>Article Text Search - navigation</th>\n",
       "      <th>Article Text Search - fish</th>\n",
       "      <th>Article Text Search - invasive</th>\n",
       "      <th>Article Text Search - diversion</th>\n",
       "      <th>Article Text Search - water diversion</th>\n",
       "      <th>Article Text Search - instream</th>\n",
       "      <th>Article Text Search - aquatic</th>\n",
       "    </tr>\n",
       "  </thead>\n",
       "  <tbody>\n",
       "    <tr>\n",
       "      <th>0</th>\n",
       "      <td>1</td>\n",
       "      <td>USGS1-50.docx</td>\n",
       "      <td>The Durango Herald (Colorado)</td>\n",
       "      <td>Tribes assert water rights on Colorado River B...</td>\n",
       "      <td>False</td>\n",
       "      <td>7-Apr-22</td>\n",
       "      <td>2022.0</td>\n",
       "      <td>NaN</td>\n",
       "      <td>NaN</td>\n",
       "      <td>4.0</td>\n",
       "      <td>2022.0</td>\n",
       "      <td>Y</td>\n",
       "      <td>N</td>\n",
       "      <td>Upper San Juan</td>\n",
       "      <td>140801</td>\n",
       "      <td>14</td>\n",
       "      <td>Durango, CO</td>\n",
       "      <td>La Plata</td>\n",
       "      <td>8067.0</td>\n",
       "      <td>CO</td>\n",
       "      <td>8</td>\n",
       "      <td>Both</td>\n",
       "      <td>Water rights more generally</td>\n",
       "      <td>Ute Mountain and Southern Ute representatives ...</td>\n",
       "      <td>Tribal Nations, State Government, Federal Gove...</td>\n",
       "      <td>2.0</td>\n",
       "      <td>The article highlights calls for negotiation b...</td>\n",
       "      <td>Lack of tribal representation</td>\n",
       "      <td>0</td>\n",
       "      <td>0</td>\n",
       "      <td>3</td>\n",
       "      <td>7</td>\n",
       "      <td>0</td>\n",
       "      <td>0</td>\n",
       "      <td>0</td>\n",
       "      <td>1</td>\n",
       "      <td>0</td>\n",
       "      <td>0</td>\n",
       "      <td>17</td>\n",
       "      <td>0</td>\n",
       "      <td>0</td>\n",
       "      <td>0</td>\n",
       "      <td>0</td>\n",
       "      <td>0</td>\n",
       "      <td>0</td>\n",
       "      <td>0</td>\n",
       "      <td>0</td>\n",
       "      <td>0</td>\n",
       "    </tr>\n",
       "    <tr>\n",
       "      <th>1</th>\n",
       "      <td>2</td>\n",
       "      <td>USGS1-50.docx</td>\n",
       "      <td>Journal, The (Cortez, Dolores, Mancos, CO)</td>\n",
       "      <td>Native American tribes assert water rights on ...</td>\n",
       "      <td>False</td>\n",
       "      <td>7-Apr-22</td>\n",
       "      <td>2022.0</td>\n",
       "      <td>NaN</td>\n",
       "      <td>NaN</td>\n",
       "      <td>4.0</td>\n",
       "      <td>2022.0</td>\n",
       "      <td>Y</td>\n",
       "      <td>N</td>\n",
       "      <td>Upper San Juan</td>\n",
       "      <td>140801</td>\n",
       "      <td>14</td>\n",
       "      <td>Durango, CO</td>\n",
       "      <td>La Plata</td>\n",
       "      <td>8067.0</td>\n",
       "      <td>CO</td>\n",
       "      <td>8</td>\n",
       "      <td>Both</td>\n",
       "      <td>Water rights more generally</td>\n",
       "      <td>Ute Mountain and Southern Ute representatives ...</td>\n",
       "      <td>Southern Ute Indian Tribe, Ute Mountain Tribe,...</td>\n",
       "      <td>2.0</td>\n",
       "      <td>The article highlights calls for negotiation b...</td>\n",
       "      <td>Lack of tribal representation</td>\n",
       "      <td>0</td>\n",
       "      <td>0</td>\n",
       "      <td>2</td>\n",
       "      <td>7</td>\n",
       "      <td>0</td>\n",
       "      <td>0</td>\n",
       "      <td>0</td>\n",
       "      <td>1</td>\n",
       "      <td>0</td>\n",
       "      <td>0</td>\n",
       "      <td>17</td>\n",
       "      <td>0</td>\n",
       "      <td>0</td>\n",
       "      <td>0</td>\n",
       "      <td>0</td>\n",
       "      <td>0</td>\n",
       "      <td>0</td>\n",
       "      <td>0</td>\n",
       "      <td>0</td>\n",
       "      <td>0</td>\n",
       "    </tr>\n",
       "  </tbody>\n",
       "</table>\n",
       "</div>"
      ],
      "text/plain": [
       "   Event  Search Source                                   Newspaper  \\\n",
       "0      1  USGS1-50.docx               The Durango Herald (Colorado)   \n",
       "1      2  USGS1-50.docx  Journal, The (Cortez, Dolores, Mancos, CO)   \n",
       "\n",
       "                                       Article Title Duplicate Report Date  \\\n",
       "0  Tribes assert water rights on Colorado River B...     False    7-Apr-22   \n",
       "1  Native American tribes assert water rights on ...     False    7-Apr-22   \n",
       "\n",
       "   Report Year Event Date  Event Day  Event Month  Event Year  \\\n",
       "0       2022.0        NaN        NaN          4.0      2022.0   \n",
       "1       2022.0        NaN        NaN          4.0      2022.0   \n",
       "\n",
       "  Conflict Present Crisis Present           Basin    HUC6 HUC2        Place  \\\n",
       "0                Y              N  Upper San Juan  140801   14  Durango, CO   \n",
       "1                Y              N  Upper San Juan  140801   14  Durango, CO   \n",
       "\n",
       "     County  County FIPS State State FIPS Urban or Rural  \\\n",
       "0  La Plata       8067.0    CO          8           Both   \n",
       "1  La Plata       8067.0    CO          8           Both   \n",
       "\n",
       "                    Issue Type  \\\n",
       "0  Water rights more generally   \n",
       "1  Water rights more generally   \n",
       "\n",
       "                                       Event Summary  \\\n",
       "0  Ute Mountain and Southern Ute representatives ...   \n",
       "1  Ute Mountain and Southern Ute representatives ...   \n",
       "\n",
       "                                        Stakeholders  Intensity Value  \\\n",
       "0  Tribal Nations, State Government, Federal Gove...              2.0   \n",
       "1  Southern Ute Indian Tribe, Ute Mountain Tribe,...              2.0   \n",
       "\n",
       "                                            Comments  \\\n",
       "0  The article highlights calls for negotiation b...   \n",
       "1  The article highlights calls for negotiation b...   \n",
       "\n",
       "      Related Observation Themes  Article Text Search - water quality  \\\n",
       "0  Lack of tribal representation                                    0   \n",
       "1  Lack of tribal representation                                    0   \n",
       "\n",
       "   Article Text Search - invasive species  Article Text Search - conservation  \\\n",
       "0                                       0                                   3   \n",
       "1                                       0                                   2   \n",
       "\n",
       "   Article Text Search - drought  Article Text Search - flood  \\\n",
       "0                              7                            0   \n",
       "1                              7                            0   \n",
       "\n",
       "   Article Text Search - ground water depletion  \\\n",
       "0                                             0   \n",
       "1                                             0   \n",
       "\n",
       "   Article Text Search - depletion  Article Text Search - infrastructure  \\\n",
       "0                                0                                     1   \n",
       "1                                0                                     1   \n",
       "\n",
       "   Article Text Search - fish passage  \\\n",
       "0                                   0   \n",
       "1                                   0   \n",
       "\n",
       "   Article Text Search - instream water rights  \\\n",
       "0                                            0   \n",
       "1                                            0   \n",
       "\n",
       "   Article Text Search - water rights  \\\n",
       "0                                  17   \n",
       "1                                  17   \n",
       "\n",
       "   Article Text Search - intergovernmental  \\\n",
       "0                                        0   \n",
       "1                                        0   \n",
       "\n",
       "   Article Text Search - water transfers  Article Text Search - navigation  \\\n",
       "0                                      0                                 0   \n",
       "1                                      0                                 0   \n",
       "\n",
       "   Article Text Search - fish  Article Text Search - invasive  \\\n",
       "0                           0                               0   \n",
       "1                           0                               0   \n",
       "\n",
       "   Article Text Search - diversion  Article Text Search - water diversion  \\\n",
       "0                                0                                      0   \n",
       "1                                0                                      0   \n",
       "\n",
       "   Article Text Search - instream  Article Text Search - aquatic  \n",
       "0                               0                              0  \n",
       "1                               0                              0  "
      ]
     },
     "execution_count": 7,
     "metadata": {},
     "output_type": "execute_result"
    }
   ],
   "source": [
    "import pandas as pd\n",
    "\n",
    "# Import data\n",
    "df = pd.read_csv('data/Colorado River Basin Water Conflict Table.csv')\n",
    "df.head(2)"
   ]
  },
  {
   "cell_type": "markdown",
   "id": "2d1cb611-5ce8-40b5-9f64-6772bc9f365c",
   "metadata": {},
   "source": [
    "# 3. Preliminary Exploration"
   ]
  },
  {
   "cell_type": "code",
   "execution_count": 9,
   "id": "328f3566-d72a-4459-af84-578622b37f44",
   "metadata": {
    "tags": []
   },
   "outputs": [
    {
     "name": "stdout",
     "output_type": "stream",
     "text": [
      "Index(['Event', 'Search Source', 'Newspaper', 'Article Title', 'Duplicate',\n",
      "       'Report Date', 'Report Year', 'Event Date', 'Event Day', 'Event Month',\n",
      "       'Event Year', 'Conflict Present', 'Crisis Present', 'Basin', 'HUC6',\n",
      "       'HUC2', 'Place', 'County', 'County FIPS', 'State', 'State FIPS',\n",
      "       'Urban or Rural', 'Issue Type', 'Event Summary', 'Stakeholders',\n",
      "       'Intensity Value', 'Comments', 'Related Observation Themes',\n",
      "       'Article Text Search - water quality',\n",
      "       'Article Text Search - invasive species',\n",
      "       'Article Text Search - conservation', 'Article Text Search - drought',\n",
      "       'Article Text Search - flood',\n",
      "       'Article Text Search - ground water depletion',\n",
      "       'Article Text Search - depletion',\n",
      "       'Article Text Search - infrastructure',\n",
      "       'Article Text Search - fish passage',\n",
      "       'Article Text Search - instream water rights',\n",
      "       'Article Text Search - water rights',\n",
      "       'Article Text Search - intergovernmental',\n",
      "       'Article Text Search - water transfers',\n",
      "       'Article Text Search - navigation', 'Article Text Search - fish',\n",
      "       'Article Text Search - invasive', 'Article Text Search - diversion',\n",
      "       'Article Text Search - water diversion',\n",
      "       'Article Text Search - instream', 'Article Text Search - aquatic'],\n",
      "      dtype='object')\n"
     ]
    },
    {
     "data": {
      "text/plain": [
       "Event                                             int64\n",
       "Search Source                                    object\n",
       "Newspaper                                        object\n",
       "Article Title                                    object\n",
       "Duplicate                                        object\n",
       "Report Date                                      object\n",
       "Report Year                                     float64\n",
       "Event Date                                       object\n",
       "Event Day                                       float64\n",
       "Event Month                                     float64\n",
       "Event Year                                      float64\n",
       "Conflict Present                                 object\n",
       "Crisis Present                                   object\n",
       "Basin                                            object\n",
       "HUC6                                             object\n",
       "HUC2                                             object\n",
       "Place                                            object\n",
       "County                                           object\n",
       "County FIPS                                     float64\n",
       "State                                            object\n",
       "State FIPS                                       object\n",
       "Urban or Rural                                   object\n",
       "Issue Type                                       object\n",
       "Event Summary                                    object\n",
       "Stakeholders                                     object\n",
       "Intensity Value                                 float64\n",
       "Comments                                         object\n",
       "Related Observation Themes                       object\n",
       "Article Text Search - water quality               int64\n",
       "Article Text Search - invasive species            int64\n",
       "Article Text Search - conservation                int64\n",
       "Article Text Search - drought                     int64\n",
       "Article Text Search - flood                       int64\n",
       "Article Text Search - ground water depletion      int64\n",
       "Article Text Search - depletion                   int64\n",
       "Article Text Search - infrastructure              int64\n",
       "Article Text Search - fish passage                int64\n",
       "Article Text Search - instream water rights       int64\n",
       "Article Text Search - water rights                int64\n",
       "Article Text Search - intergovernmental           int64\n",
       "Article Text Search - water transfers             int64\n",
       "Article Text Search - navigation                  int64\n",
       "Article Text Search - fish                        int64\n",
       "Article Text Search - invasive                    int64\n",
       "Article Text Search - diversion                   int64\n",
       "Article Text Search - water diversion             int64\n",
       "Article Text Search - instream                    int64\n",
       "Article Text Search - aquatic                     int64\n",
       "dtype: object"
      ]
     },
     "execution_count": 9,
     "metadata": {},
     "output_type": "execute_result"
    }
   ],
   "source": [
    "pd.set_option('display.max_columns', None) # Set to display all columns in df\n",
    "df.head(2)\n",
    "\n",
    "df.isna().sum()\n",
    "df.shape\n",
    "print(df.columns)\n",
    "df.dtypes"
   ]
  },
  {
   "cell_type": "markdown",
   "id": "54ad2dd0-b24f-4c7c-8f08-fc77053472bf",
   "metadata": {},
   "source": [
    "# String Accessor for pandas.Series"
   ]
  },
  {
   "cell_type": "code",
   "execution_count": 1,
   "id": "0b809bbb-e544-43c4-8d3e-a61d05264fcb",
   "metadata": {
    "tags": []
   },
   "outputs": [
    {
     "data": {
      "text/plain": [
       "0    California; Nevada\n",
       "1               Arizona\n",
       "2                   NaN\n",
       "3          Nevada; Utah\n",
       "dtype: object"
      ]
     },
     "execution_count": 1,
     "metadata": {},
     "output_type": "execute_result"
    }
   ],
   "source": [
    "import numpy as np\n",
    "import pandas as pd \n",
    "\n",
    "# Example series\n",
    "s = pd.Series(['California; Nevada', 'Arizona', np.nan, 'Nevada; Utah'])\n",
    "s"
   ]
  },
  {
   "cell_type": "code",
   "execution_count": 3,
   "id": "f0e79802-d904-41ee-9b0b-2353a09681f2",
   "metadata": {
    "tags": []
   },
   "outputs": [
    {
     "data": {
      "text/plain": [
       "<pandas.core.strings.accessor.StringMethods at 0x7fa5e527f7d0>"
      ]
     },
     "execution_count": 3,
     "metadata": {},
     "output_type": "execute_result"
    }
   ],
   "source": [
    "# str accessor (doesn't do anything by itself)\n",
    "s.str"
   ]
  },
  {
   "cell_type": "code",
   "execution_count": 10,
   "id": "6b132f1e-1afa-47bc-9594-ed1eeee6e94a",
   "metadata": {
    "tags": []
   },
   "outputs": [
    {
     "data": {
      "text/html": [
       "<div>\n",
       "<style scoped>\n",
       "    .dataframe tbody tr th:only-of-type {\n",
       "        vertical-align: middle;\n",
       "    }\n",
       "\n",
       "    .dataframe tbody tr th {\n",
       "        vertical-align: top;\n",
       "    }\n",
       "\n",
       "    .dataframe thead th {\n",
       "        text-align: right;\n",
       "    }\n",
       "</style>\n",
       "<table border=\"1\" class=\"dataframe\">\n",
       "  <thead>\n",
       "    <tr style=\"text-align: right;\">\n",
       "      <th></th>\n",
       "      <th>0</th>\n",
       "      <th>1</th>\n",
       "    </tr>\n",
       "  </thead>\n",
       "  <tbody>\n",
       "    <tr>\n",
       "      <th>0</th>\n",
       "      <td>California</td>\n",
       "      <td>Nevada</td>\n",
       "    </tr>\n",
       "    <tr>\n",
       "      <th>1</th>\n",
       "      <td>Arizona</td>\n",
       "      <td>None</td>\n",
       "    </tr>\n",
       "    <tr>\n",
       "      <th>2</th>\n",
       "      <td>NaN</td>\n",
       "      <td>NaN</td>\n",
       "    </tr>\n",
       "    <tr>\n",
       "      <th>3</th>\n",
       "      <td>Nevada</td>\n",
       "      <td>Utah</td>\n",
       "    </tr>\n",
       "  </tbody>\n",
       "</table>\n",
       "</div>"
      ],
      "text/plain": [
       "            0        1\n",
       "0  California   Nevada\n",
       "1     Arizona     None\n",
       "2         NaN      NaN\n",
       "3      Nevada     Utah"
      ]
     },
     "execution_count": 10,
     "metadata": {},
     "output_type": "execute_result"
    }
   ],
   "source": [
    "# Use str accessor with additional methods to perform string operations\n",
    "# .split splits strings by ';' and expands output into separate columns\n",
    "s.str.split(';', expand=True)"
   ]
  },
  {
   "cell_type": "code",
   "execution_count": 11,
   "id": "6302a94b-69ec-4088-a446-af839e49172f",
   "metadata": {
    "tags": []
   },
   "outputs": [
    {
     "data": {
      "text/plain": [
       "0  0    California\n",
       "   1        Nevada\n",
       "1  0       Arizona\n",
       "3  0        Nevada\n",
       "   1          Utah\n",
       "dtype: object"
      ]
     },
     "execution_count": 11,
     "metadata": {},
     "output_type": "execute_result"
    }
   ],
   "source": [
    "# Use stack() method to flatten the data frame into a series\n",
    "# default is to drop NAs and None from result\n",
    "s.str.split(';', expand=True).stack()"
   ]
  },
  {
   "cell_type": "markdown",
   "id": "7381f703-f28b-42d1-a84a-92c60ac4faed",
   "metadata": {},
   "source": [
    "# 6. Examine State Codes"
   ]
  },
  {
   "cell_type": "markdown",
   "id": "6b0cbc51-5320-4062-8071-a4ae9afc9f1a",
   "metadata": {},
   "source": [
    "Our goal today is to find which states are reported in the dataset as having a water conflicts."
   ]
  },
  {
   "cell_type": "markdown",
   "id": "fc4e233a-5052-467d-8ec9-1b08efa7304e",
   "metadata": {},
   "source": [
    "What are the unique values in the States column once filtering the dataset for states that have a water conflict? \n",
    "\n",
    "The unique values are the states we would expect but because of the spaces left over after splitting and stacking they register as alternate values\n",
    "\n",
    "What could be a challenge to writing code to find which states are listed (without repetition)? \n",
    "\n",
    "The strings are slightly different\n",
    "\n",
    "Remember to write longer answers in markdown cells, not as comments."
   ]
  },
  {
   "cell_type": "code",
   "execution_count": 128,
   "id": "a781c639-5e7c-4362-ad67-ecf28ebacf1f",
   "metadata": {
    "tags": []
   },
   "outputs": [
    {
     "data": {
      "text/plain": [
       "array(['CO', 'AZ', 'OH', 'UT', 'CA', 'NV', 'WY', 'NM'], dtype=object)"
      ]
     },
     "execution_count": 128,
     "metadata": {},
     "output_type": "execute_result"
    }
   ],
   "source": [
    "(df[df['Conflict Present'] == 'Y']['State']\n",
    "             .str # go into string\n",
    "             .split(';', expand=True) # Split values at ;\n",
    "             .stack() # stack them into a series\n",
    "             .str.strip() # Remove white space in the series\n",
    "             .unique()) # Output unique values"
   ]
  },
  {
   "cell_type": "markdown",
   "id": "be62a7ce-c090-4561-9034-679398e057e3",
   "metadata": {
    "tags": []
   },
   "source": [
    "# 9. Bonus Question"
   ]
  },
  {
   "cell_type": "code",
   "execution_count": null,
   "id": "0027fa94-ff80-434f-ac9b-5928e51cfb71",
   "metadata": {},
   "outputs": [],
   "source": []
  }
 ],
 "metadata": {
  "kernelspec": {
   "display_name": "EDS220",
   "language": "python",
   "name": "eds220-env"
  },
  "language_info": {
   "codemirror_mode": {
    "name": "ipython",
    "version": 3
   },
   "file_extension": ".py",
   "mimetype": "text/x-python",
   "name": "python",
   "nbconvert_exporter": "python",
   "pygments_lexer": "ipython3",
   "version": "3.11.4"
  }
 },
 "nbformat": 4,
 "nbformat_minor": 5
}
